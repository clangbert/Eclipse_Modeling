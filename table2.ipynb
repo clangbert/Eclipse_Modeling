{
 "cells": [
  {
   "cell_type": "markdown",
   "id": "2d82854a",
   "metadata": {},
   "source": [
    "importing .txt file:"
   ]
  },
  {
   "cell_type": "code",
   "execution_count": 1,
   "id": "64b911a2",
   "metadata": {
    "scrolled": true
   },
   "outputs": [],
   "source": [
    "import os\n",
    "import csv\n",
    "import pandas as pd\n",
    "\n",
    "with open('datafile2.txt', 'r') as data:\n",
    "    plaintext = data.read()\n",
    "\n",
    "newtext = \"\\n\".join(plaintext.split(\"\\n\")[16:])\n",
    "# print(newtext)"
   ]
  },
  {
   "cell_type": "markdown",
   "id": "390ddc1a",
   "metadata": {},
   "source": [
    "iterate through file, remove spaces + add commas, add lines to optical transit.csv file"
   ]
  },
  {
   "cell_type": "code",
   "execution_count": 2,
   "id": "f78f2af8",
   "metadata": {},
   "outputs": [],
   "source": [
    "# csv_text = open('optical transit.csv', 'w') # make optical transit.csv file\n",
    "# writer = csv.writer(csv_text)\n",
    "\n",
    "line_len = 49\n",
    "num_lines = int(len(newtext)/50)\n",
    "\n",
    "letter_counter = 0\n",
    "for num in range(num_lines):\n",
    "    try:\n",
    "        j = letter_counter + line_len \n",
    "        line = newtext[letter_counter:j]\n",
    "        tele = line[0:12].strip()\n",
    "        filt = line[13:20].strip()\n",
    "        hjd = line[21:34].strip()\n",
    "        rflux = line[35:41].strip()\n",
    "        e_rflux = line[42:50].strip()\n",
    "        newline = [tele, filt, hjd, rflux, e_rflux]\n",
    "#         writer.writerow(newline)\n",
    "#         print(newline)\n",
    "        letter_counter += 50 # update counter to next line\n",
    "    except:\n",
    "        pass\n",
    "\n",
    "# csv_text.close()"
   ]
  },
  {
   "cell_type": "code",
   "execution_count": null,
   "id": "338369d6",
   "metadata": {},
   "outputs": [],
   "source": [
    "# with open('optical transit.csv', 'r') as file:\n",
    "#     plaintext = file.read()"
   ]
  },
  {
   "cell_type": "markdown",
   "id": "cb821636",
   "metadata": {},
   "source": [
    "Adding header:"
   ]
  },
  {
   "cell_type": "code",
   "execution_count": 3,
   "id": "d428b077",
   "metadata": {},
   "outputs": [
    {
     "name": "stdout",
     "output_type": "stream",
     "text": [
      "\n",
      "Original file:\n",
      "      FLWO 1.2m  z  2453937.71893  1.0037  0.0027\n",
      "0     FLWO 1.2m  z   2.453938e+06  0.9963  0.0027\n",
      "1     FLWO 1.2m  z   2.453938e+06  1.0007  0.0027\n",
      "2     FLWO 1.2m  z   2.453938e+06  0.9995  0.0027\n",
      "3     FLWO 1.2m  z   2.453938e+06  1.0004  0.0027\n",
      "4     FLWO 1.2m  z   2.453938e+06  1.0014  0.0027\n",
      "...         ... ..            ...     ...     ...\n",
      "2779    Wise 1m  I   2.453984e+06  1.0066  0.0030\n",
      "2780    Wise 1m  I   2.453984e+06  0.9968  0.0030\n",
      "2781    Wise 1m  I   2.453984e+06  1.0000  0.0030\n",
      "2782    Wise 1m  I   2.453984e+06  1.0013  0.0030\n",
      "2783    Wise 1m  I   2.453984e+06  0.9993  0.0030\n",
      "\n",
      "[2784 rows x 5 columns]\n",
      "\n",
      "Modified file:\n",
      "           Tele Filter           HJD   RFlux  e_RFlux\n",
      "0     FLWO 1.2m      z  2.453938e+06  0.9963   0.0027\n",
      "1     FLWO 1.2m      z  2.453938e+06  1.0007   0.0027\n",
      "2     FLWO 1.2m      z  2.453938e+06  0.9995   0.0027\n",
      "3     FLWO 1.2m      z  2.453938e+06  1.0004   0.0027\n",
      "4     FLWO 1.2m      z  2.453938e+06  1.0014   0.0027\n",
      "...         ...    ...           ...     ...      ...\n",
      "2779    Wise 1m      I  2.453984e+06  1.0066   0.0030\n",
      "2780    Wise 1m      I  2.453984e+06  0.9968   0.0030\n",
      "2781    Wise 1m      I  2.453984e+06  1.0000   0.0030\n",
      "2782    Wise 1m      I  2.453984e+06  1.0013   0.0030\n",
      "2783    Wise 1m      I  2.453984e+06  0.9993   0.0030\n",
      "\n",
      "[2784 rows x 5 columns]\n"
     ]
    }
   ],
   "source": [
    "# read contents of csv file\n",
    "file = pd.read_csv(\"optical transit.csv\")\n",
    "# print(\"\\nOriginal file:\")\n",
    "# print(file)\n",
    "  \n",
    "# adding header\n",
    "headerList = ['Tele', 'Filter', 'HJD', 'RFlux', 'e_RFlux']\n",
    "  \n",
    "# converting data frame to csv\n",
    "file.to_csv(\"optical transit.csv\", header=headerList, index=False)\n",
    "  \n",
    "# display modified csv file\n",
    "file2 = pd.read_csv(\"optical transit.csv\")\n",
    "# print('\\nModified file:')\n",
    "# print(file2)"
   ]
  }
 ],
 "metadata": {
  "kernelspec": {
   "display_name": "Python 3",
   "language": "python",
   "name": "python3"
  },
  "language_info": {
   "codemirror_mode": {
    "name": "ipython",
    "version": 3
   },
   "file_extension": ".py",
   "mimetype": "text/x-python",
   "name": "python",
   "nbconvert_exporter": "python",
   "pygments_lexer": "ipython3",
   "version": "3.8.8"
  }
 },
 "nbformat": 4,
 "nbformat_minor": 5
}
